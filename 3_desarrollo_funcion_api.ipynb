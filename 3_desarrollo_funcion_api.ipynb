{
 "cells": [
  {
   "cell_type": "code",
   "execution_count": 1,
   "metadata": {},
   "outputs": [],
   "source": [
    "# Se cargan las librerias necesarias\n",
    "import pandas as pd \n",
    "import numpy as np \n"
   ]
  },
  {
   "cell_type": "markdown",
   "metadata": {},
   "source": [
    "Se cargan los datasets para resolver cada funcion"
   ]
  },
  {
   "cell_type": "markdown",
   "metadata": {},
   "source": [
    "###  Funcion PlayTimeGenre"
   ]
  },
  {
   "cell_type": "markdown",
   "metadata": {},
   "source": [
    "Para devolver el año con mas horas jugadas en un determinado genero"
   ]
  },
  {
   "cell_type": "code",
   "execution_count": 2,
   "metadata": {},
   "outputs": [
    {
     "data": {
      "text/html": [
       "<div>\n",
       "<style scoped>\n",
       "    .dataframe tbody tr th:only-of-type {\n",
       "        vertical-align: middle;\n",
       "    }\n",
       "\n",
       "    .dataframe tbody tr th {\n",
       "        vertical-align: top;\n",
       "    }\n",
       "\n",
       "    .dataframe thead th {\n",
       "        text-align: right;\n",
       "    }\n",
       "</style>\n",
       "<table border=\"1\" class=\"dataframe\">\n",
       "  <thead>\n",
       "    <tr style=\"text-align: right;\">\n",
       "      <th></th>\n",
       "      <th>genres</th>\n",
       "      <th>rel_year</th>\n",
       "      <th>playtime_forever</th>\n",
       "    </tr>\n",
       "  </thead>\n",
       "  <tbody>\n",
       "    <tr>\n",
       "      <th>0</th>\n",
       "      <td>Action</td>\n",
       "      <td>1983</td>\n",
       "      <td>3473</td>\n",
       "    </tr>\n",
       "    <tr>\n",
       "      <th>1</th>\n",
       "      <td>Action</td>\n",
       "      <td>1984</td>\n",
       "      <td>384</td>\n",
       "    </tr>\n",
       "    <tr>\n",
       "      <th>2</th>\n",
       "      <td>Action</td>\n",
       "      <td>1988</td>\n",
       "      <td>16001</td>\n",
       "    </tr>\n",
       "    <tr>\n",
       "      <th>3</th>\n",
       "      <td>Action</td>\n",
       "      <td>1989</td>\n",
       "      <td>607</td>\n",
       "    </tr>\n",
       "    <tr>\n",
       "      <th>4</th>\n",
       "      <td>Action</td>\n",
       "      <td>1990</td>\n",
       "      <td>18335</td>\n",
       "    </tr>\n",
       "  </tbody>\n",
       "</table>\n",
       "</div>"
      ],
      "text/plain": [
       "   genres rel_year  playtime_forever\n",
       "0  Action     1983              3473\n",
       "1  Action     1984               384\n",
       "2  Action     1988             16001\n",
       "3  Action     1989               607\n",
       "4  Action     1990             18335"
      ]
     },
     "execution_count": 2,
     "metadata": {},
     "output_type": "execute_result"
    }
   ],
   "source": [
    "playtime = pd.read_csv('playtime.csv')\n",
    "playtime.head()"
   ]
  },
  {
   "cell_type": "markdown",
   "metadata": {},
   "source": [
    "Funcion para la API"
   ]
  },
  {
   "cell_type": "code",
   "execution_count": 3,
   "metadata": {},
   "outputs": [],
   "source": [
    "def PlayTimeGenre(genre):\n",
    "    # Filtrar el DataFrame por el género proporcionado\n",
    "    filtered_data = playtime[playtime['genres'] == genre]\n",
    "    \n",
    "    # Agrupar por año y sumar las horas de juego\n",
    "    grouped = filtered_data.groupby('rel_year')['playtime_forever'].sum().reset_index()\n",
    "    \n",
    "    # Encontrar el año con la máxima cantidad de horas de juego\n",
    "    año_mas_jugado = grouped.loc[grouped['playtime_forever'].idxmax(), 'rel_year']\n",
    "    \n",
    "    return print(\"Año de lanzamiento con más horas jugadas para Género :\", genre, int(año_mas_jugado))"
   ]
  },
  {
   "cell_type": "code",
   "execution_count": 4,
   "metadata": {},
   "outputs": [
    {
     "name": "stdout",
     "output_type": "stream",
     "text": [
      "Año de lanzamiento con más horas jugadas para Género : Action 2012\n"
     ]
    }
   ],
   "source": [
    "PlayTimeGenre('Action')\n",
    "# http://127.0.0.1:8000/PlayTimeGenre/?genre=action"
   ]
  },
  {
   "cell_type": "markdown",
   "metadata": {},
   "source": [
    "### Funcion UserForGenre\n",
    "Para devolver el usuario que acumula mas horas jugadas para un determinado genero y una lista de la acumulacion de horas jugadas por año"
   ]
  },
  {
   "cell_type": "code",
   "execution_count": 5,
   "metadata": {},
   "outputs": [
    {
     "data": {
      "text/html": [
       "<div>\n",
       "<style scoped>\n",
       "    .dataframe tbody tr th:only-of-type {\n",
       "        vertical-align: middle;\n",
       "    }\n",
       "\n",
       "    .dataframe tbody tr th {\n",
       "        vertical-align: top;\n",
       "    }\n",
       "\n",
       "    .dataframe thead th {\n",
       "        text-align: right;\n",
       "    }\n",
       "</style>\n",
       "<table border=\"1\" class=\"dataframe\">\n",
       "  <thead>\n",
       "    <tr style=\"text-align: right;\">\n",
       "      <th></th>\n",
       "      <th>user_id</th>\n",
       "      <th>genres</th>\n",
       "      <th>rel_year</th>\n",
       "      <th>playtime_forever</th>\n",
       "    </tr>\n",
       "  </thead>\n",
       "  <tbody>\n",
       "    <tr>\n",
       "      <th>0</th>\n",
       "      <td>76561198029976254</td>\n",
       "      <td>Action</td>\n",
       "      <td>2004</td>\n",
       "      <td>44</td>\n",
       "    </tr>\n",
       "    <tr>\n",
       "      <th>1</th>\n",
       "      <td>76561198029976254</td>\n",
       "      <td>Action</td>\n",
       "      <td>2006</td>\n",
       "      <td>944</td>\n",
       "    </tr>\n",
       "    <tr>\n",
       "      <th>2</th>\n",
       "      <td>76561198029976254</td>\n",
       "      <td>Action</td>\n",
       "      <td>2007</td>\n",
       "      <td>37</td>\n",
       "    </tr>\n",
       "    <tr>\n",
       "      <th>3</th>\n",
       "      <td>76561198029976254</td>\n",
       "      <td>Action</td>\n",
       "      <td>2008</td>\n",
       "      <td>319</td>\n",
       "    </tr>\n",
       "    <tr>\n",
       "      <th>4</th>\n",
       "      <td>76561198029976254</td>\n",
       "      <td>Action</td>\n",
       "      <td>2009</td>\n",
       "      <td>13830</td>\n",
       "    </tr>\n",
       "  </tbody>\n",
       "</table>\n",
       "</div>"
      ],
      "text/plain": [
       "             user_id  genres rel_year  playtime_forever\n",
       "0  76561198029976254  Action     2004                44\n",
       "1  76561198029976254  Action     2006               944\n",
       "2  76561198029976254  Action     2007                37\n",
       "3  76561198029976254  Action     2008               319\n",
       "4  76561198029976254  Action     2009             13830"
      ]
     },
     "execution_count": 5,
     "metadata": {},
     "output_type": "execute_result"
    }
   ],
   "source": [
    "userfor = pd.read_csv('userfor.csv')\n",
    "userfor.head()"
   ]
  },
  {
   "cell_type": "markdown",
   "metadata": {},
   "source": [
    "Funcion para la API"
   ]
  },
  {
   "cell_type": "code",
   "execution_count": 6,
   "metadata": {},
   "outputs": [],
   "source": [
    "def UserForGenre(genre):\n",
    "    # Filtrar el DataFrame por el género dado\n",
    "    genero = userfor[userfor['genres'] == genre]\n",
    "    \n",
    "    if genero.empty:\n",
    "        print(f\"No hay datos para el género '{genre}'.\")\n",
    "        return\n",
    "    \n",
    "    # Encontrar el usuario que más horas ha jugado ese género\n",
    "    max_user = genero.loc[genero['playtime_forever'].idxmax()]['user_id']\n",
    "    # Se filtra el DataFrame para obtener solo las filas correspondientes al usuario con más horas jugadas en ese género\n",
    "    usuario = genero[genero['user_id'] == max_user]\n",
    "\n",
    "    \n",
    "    # Calcular la acumulación de horas jugadas por año para ese género y usuario               \n",
    "    agrupar = usuario.groupby('rel_year')['playtime_forever'].sum().reset_index()\n",
    "    \n",
    "    # Se vuelve genre_yearly_playtime en un diccionario para mostrar los resultados\n",
    "    agrupar.columns = ['Year', 'Time']\n",
    "    agrupar_dict = agrupar.to_dict(orient='records')\n",
    "    result = {\"Usuario con más horas jugadas para Género \" + genre: max_user,\n",
    "        \"Horas jugadas\": agrupar_dict}\n",
    "    \n",
    "    return result"
   ]
  },
  {
   "cell_type": "code",
   "execution_count": 7,
   "metadata": {},
   "outputs": [
    {
     "data": {
      "text/plain": [
       "{'Usuario con más horas jugadas para Género Action': 'REBAS_AS_F-T',\n",
       " 'Horas jugadas': [{'Year': '1998', 'Time': 2},\n",
       "  {'Year': '1999', 'Time': 225},\n",
       "  {'Year': '2001', 'Time': 11},\n",
       "  {'Year': '2002', 'Time': 1},\n",
       "  {'Year': '2003', 'Time': 1863},\n",
       "  {'Year': '2004', 'Time': 2115},\n",
       "  {'Year': '2005', 'Time': 3293},\n",
       "  {'Year': '2006', 'Time': 138},\n",
       "  {'Year': '2007', 'Time': 684},\n",
       "  {'Year': '2008', 'Time': 3791},\n",
       "  {'Year': '2009', 'Time': 26635},\n",
       "  {'Year': '2010', 'Time': 31315},\n",
       "  {'Year': '2011', 'Time': 72495},\n",
       "  {'Year': '2012', 'Time': 115563},\n",
       "  {'Year': '2013', 'Time': 159890},\n",
       "  {'Year': '2014', 'Time': 230625},\n",
       "  {'Year': '2015', 'Time': 218918},\n",
       "  {'Year': '2016', 'Time': 231321},\n",
       "  {'Year': '2017', 'Time': 3716},\n",
       "  {'Year': 'No_disponible', 'Time': 7869}]}"
      ]
     },
     "execution_count": 7,
     "metadata": {},
     "output_type": "execute_result"
    }
   ],
   "source": [
    "# Llamada a la función con el género deseado (por ejemplo, 'Action')\n",
    "UserForGenre('Action')\n",
    "# http://127.0.0.1:8000/UserForGenre/?genre=action"
   ]
  },
  {
   "cell_type": "markdown",
   "metadata": {},
   "source": [
    "### Funcion UsersRecommend\n",
    "Para devolver el top 3 de juegos mas recomendados por usuarios para el año dado <br>"
   ]
  },
  {
   "cell_type": "code",
   "execution_count": 8,
   "metadata": {},
   "outputs": [
    {
     "data": {
      "text/html": [
       "<div>\n",
       "<style scoped>\n",
       "    .dataframe tbody tr th:only-of-type {\n",
       "        vertical-align: middle;\n",
       "    }\n",
       "\n",
       "    .dataframe tbody tr th {\n",
       "        vertical-align: top;\n",
       "    }\n",
       "\n",
       "    .dataframe thead th {\n",
       "        text-align: right;\n",
       "    }\n",
       "</style>\n",
       "<table border=\"1\" class=\"dataframe\">\n",
       "  <thead>\n",
       "    <tr style=\"text-align: right;\">\n",
       "      <th></th>\n",
       "      <th>año</th>\n",
       "      <th>app_name</th>\n",
       "    </tr>\n",
       "  </thead>\n",
       "  <tbody>\n",
       "    <tr>\n",
       "      <th>0</th>\n",
       "      <td>2010</td>\n",
       "      <td>Team Fortress 2</td>\n",
       "    </tr>\n",
       "    <tr>\n",
       "      <th>1</th>\n",
       "      <td>2010</td>\n",
       "      <td>Alien Swarm</td>\n",
       "    </tr>\n",
       "    <tr>\n",
       "      <th>2</th>\n",
       "      <td>2010</td>\n",
       "      <td>Killing Floor</td>\n",
       "    </tr>\n",
       "    <tr>\n",
       "      <th>3</th>\n",
       "      <td>2011</td>\n",
       "      <td>Team Fortress 2</td>\n",
       "    </tr>\n",
       "    <tr>\n",
       "      <th>4</th>\n",
       "      <td>2011</td>\n",
       "      <td>Portal 2</td>\n",
       "    </tr>\n",
       "  </tbody>\n",
       "</table>\n",
       "</div>"
      ],
      "text/plain": [
       "    año         app_name\n",
       "0  2010  Team Fortress 2\n",
       "1  2010      Alien Swarm\n",
       "2  2010    Killing Floor\n",
       "3  2011  Team Fortress 2\n",
       "4  2011         Portal 2"
      ]
     },
     "execution_count": 8,
     "metadata": {},
     "output_type": "execute_result"
    }
   ],
   "source": [
    "user_recom = pd.read_csv('user_recom.csv')\n",
    "user_recom.head()"
   ]
  },
  {
   "cell_type": "markdown",
   "metadata": {},
   "source": [
    "Funcion para la API"
   ]
  },
  {
   "cell_type": "code",
   "execution_count": 9,
   "metadata": {},
   "outputs": [],
   "source": [
    "def UsersRecommend(año):\n",
    "    # Filtrar el DataFrame por el año proporcionado\n",
    "    filtro = user_recom[user_recom['año'] == año]\n",
    "    \n",
    "    # Obtener los nombres de app_name en el mismo orden que aparecen en el DataFrame original\n",
    "    nombres_app = filtro['app_name'].tolist()\n",
    "    resultado = {f'Puesto {i+1}': app for i, app in enumerate(nombres_app)}\n",
    "    \n",
    "    return resultado"
   ]
  },
  {
   "cell_type": "code",
   "execution_count": 10,
   "metadata": {},
   "outputs": [
    {
     "data": {
      "text/plain": [
       "{'Puesto 1': 'Team Fortress 2', 'Puesto 2': 'Portal 2', 'Puesto 3': 'Terraria'}"
      ]
     },
     "execution_count": 10,
     "metadata": {},
     "output_type": "execute_result"
    }
   ],
   "source": [
    "UsersRecommend(2011)\n",
    "# http://127.0.0.1:8000/UsersRecommend/?año=2011"
   ]
  },
  {
   "cell_type": "markdown",
   "metadata": {},
   "source": [
    "### Funcion UsersWorstDeveloper \n",
    "Para devolver el top 3 de las desarrolladoras con juegos menos recomendados por usuarios para el año dado"
   ]
  },
  {
   "cell_type": "code",
   "execution_count": 11,
   "metadata": {},
   "outputs": [
    {
     "data": {
      "text/html": [
       "<div>\n",
       "<style scoped>\n",
       "    .dataframe tbody tr th:only-of-type {\n",
       "        vertical-align: middle;\n",
       "    }\n",
       "\n",
       "    .dataframe tbody tr th {\n",
       "        vertical-align: top;\n",
       "    }\n",
       "\n",
       "    .dataframe thead th {\n",
       "        text-align: right;\n",
       "    }\n",
       "</style>\n",
       "<table border=\"1\" class=\"dataframe\">\n",
       "  <thead>\n",
       "    <tr style=\"text-align: right;\">\n",
       "      <th></th>\n",
       "      <th>año</th>\n",
       "      <th>developer</th>\n",
       "    </tr>\n",
       "  </thead>\n",
       "  <tbody>\n",
       "    <tr>\n",
       "      <th>0</th>\n",
       "      <td>2011</td>\n",
       "      <td>Broken Rules</td>\n",
       "    </tr>\n",
       "    <tr>\n",
       "      <th>1</th>\n",
       "      <td>2011</td>\n",
       "      <td>1C Company</td>\n",
       "    </tr>\n",
       "    <tr>\n",
       "      <th>2</th>\n",
       "      <td>2011</td>\n",
       "      <td>Valve</td>\n",
       "    </tr>\n",
       "    <tr>\n",
       "      <th>3</th>\n",
       "      <td>2012</td>\n",
       "      <td>Slant Six Games</td>\n",
       "    </tr>\n",
       "    <tr>\n",
       "      <th>4</th>\n",
       "      <td>2012</td>\n",
       "      <td>Treyarch</td>\n",
       "    </tr>\n",
       "  </tbody>\n",
       "</table>\n",
       "</div>"
      ],
      "text/plain": [
       "    año        developer\n",
       "0  2011     Broken Rules\n",
       "1  2011       1C Company\n",
       "2  2011            Valve\n",
       "3  2012  Slant Six Games\n",
       "4  2012         Treyarch"
      ]
     },
     "execution_count": 11,
     "metadata": {},
     "output_type": "execute_result"
    }
   ],
   "source": [
    "user_worst = pd.read_csv('user_worst.csv')\n",
    "user_worst.head()"
   ]
  },
  {
   "cell_type": "markdown",
   "metadata": {},
   "source": [
    "Funcion para la API"
   ]
  },
  {
   "cell_type": "code",
   "execution_count": 12,
   "metadata": {},
   "outputs": [],
   "source": [
    "def UsersWorstDeveloper(año):\n",
    "    # Filtrar el DataFrame por el año proporcionado\n",
    "    filtro = user_worst[user_worst['año'] == año]\n",
    "    \n",
    "    # Obtener los nombres de app_name en el mismo orden que aparecen en el DataFrame original\n",
    "    developer = filtro['developer'].tolist()\n",
    "    resultado = {f'Puesto {i+1}': app for i, app in enumerate(developer)}\n",
    "    \n",
    "    return resultado"
   ]
  },
  {
   "cell_type": "code",
   "execution_count": 13,
   "metadata": {},
   "outputs": [
    {
     "data": {
      "text/plain": [
       "{'Puesto 1': 'Slant Six Games', 'Puesto 2': 'Treyarch', 'Puesto 3': 'Valve'}"
      ]
     },
     "execution_count": 13,
     "metadata": {},
     "output_type": "execute_result"
    }
   ],
   "source": [
    "UsersWorstDeveloper(2012)\n",
    "# http://127.0.0.1:8000/UsersWorstDeveloper/?año=2012"
   ]
  },
  {
   "cell_type": "markdown",
   "metadata": {},
   "source": [
    "### Funcion sentiment_analysis \n",
    "Segun la empresa desarrolladora se devuelve un diccionario donde la clave es la desarrolladora y una lista con la cantidad total de registros<br>\n",
    "positivos, negativos y neutrales. <br>"
   ]
  },
  {
   "cell_type": "code",
   "execution_count": 14,
   "metadata": {},
   "outputs": [
    {
     "data": {
      "text/html": [
       "<div>\n",
       "<style scoped>\n",
       "    .dataframe tbody tr th:only-of-type {\n",
       "        vertical-align: middle;\n",
       "    }\n",
       "\n",
       "    .dataframe tbody tr th {\n",
       "        vertical-align: top;\n",
       "    }\n",
       "\n",
       "    .dataframe thead th {\n",
       "        text-align: right;\n",
       "    }\n",
       "</style>\n",
       "<table border=\"1\" class=\"dataframe\">\n",
       "  <thead>\n",
       "    <tr style=\"text-align: right;\">\n",
       "      <th></th>\n",
       "      <th>developer</th>\n",
       "      <th>Negative</th>\n",
       "      <th>Neutral</th>\n",
       "      <th>Positive</th>\n",
       "    </tr>\n",
       "  </thead>\n",
       "  <tbody>\n",
       "    <tr>\n",
       "      <th>0</th>\n",
       "      <td>07th Expansion</td>\n",
       "      <td>1</td>\n",
       "      <td>2</td>\n",
       "      <td>0</td>\n",
       "    </tr>\n",
       "    <tr>\n",
       "      <th>1</th>\n",
       "      <td>10th Art Studio,Adventure Productions</td>\n",
       "      <td>1</td>\n",
       "      <td>0</td>\n",
       "      <td>0</td>\n",
       "    </tr>\n",
       "    <tr>\n",
       "      <th>2</th>\n",
       "      <td>10tons Ltd</td>\n",
       "      <td>0</td>\n",
       "      <td>0</td>\n",
       "      <td>1</td>\n",
       "    </tr>\n",
       "    <tr>\n",
       "      <th>3</th>\n",
       "      <td>11 bit studios</td>\n",
       "      <td>27</td>\n",
       "      <td>9</td>\n",
       "      <td>25</td>\n",
       "    </tr>\n",
       "    <tr>\n",
       "      <th>4</th>\n",
       "      <td>14° East</td>\n",
       "      <td>1</td>\n",
       "      <td>0</td>\n",
       "      <td>1</td>\n",
       "    </tr>\n",
       "  </tbody>\n",
       "</table>\n",
       "</div>"
      ],
      "text/plain": [
       "                               developer  Negative  Neutral  Positive\n",
       "0                         07th Expansion         1        2         0\n",
       "1  10th Art Studio,Adventure Productions         1        0         0\n",
       "2                             10tons Ltd         0        0         1\n",
       "3                         11 bit studios        27        9        25\n",
       "4                               14° East         1        0         1"
      ]
     },
     "execution_count": 14,
     "metadata": {},
     "output_type": "execute_result"
    }
   ],
   "source": [
    "sa = pd.read_csv('sa.csv')\n",
    "sa.head()"
   ]
  },
  {
   "cell_type": "code",
   "execution_count": 15,
   "metadata": {},
   "outputs": [],
   "source": [
    "def sentiment_analysis(developer):\n",
    "    filtro = sa.loc[sa['developer'] == developer]\n",
    "    resultado = {\n",
    "        developer: {\n",
    "            'Negative': filtro.iloc[0, 1], \n",
    "            'Neutral': filtro.iloc[0, 2],   \n",
    "            'Positive': filtro.iloc[0, 3]  \n",
    "                         }\n",
    "                }\n",
    "    return resultado\n",
    "\n"
   ]
  },
  {
   "cell_type": "code",
   "execution_count": 16,
   "metadata": {},
   "outputs": [
    {
     "data": {
      "text/plain": [
       "{'Gaijin Games': {'Negative': 7, 'Neutral': 8, 'Positive': 23}}"
      ]
     },
     "execution_count": 16,
     "metadata": {},
     "output_type": "execute_result"
    }
   ],
   "source": [
    "# Llamada a la función\n",
    "sentiment_analysis('Gaijin Games')\n",
    "# http://127.0.0.1:8000/sentiment_analysis/?developer=Gaijin Games"
   ]
  }
 ],
 "metadata": {
  "kernelspec": {
   "display_name": "Python 3",
   "language": "python",
   "name": "python3"
  },
  "language_info": {
   "codemirror_mode": {
    "name": "ipython",
    "version": 3
   },
   "file_extension": ".py",
   "mimetype": "text/x-python",
   "name": "python",
   "nbconvert_exporter": "python",
   "pygments_lexer": "ipython3",
   "version": "3.12.0"
  }
 },
 "nbformat": 4,
 "nbformat_minor": 2
}
