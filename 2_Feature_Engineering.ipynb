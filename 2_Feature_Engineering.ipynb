{
 "cells": [
  {
   "cell_type": "markdown",
   "metadata": {},
   "source": [
    "## Prepaparacion de los Dataset para las funciones de los endpoints"
   ]
  },
  {
   "cell_type": "code",
   "execution_count": 78,
   "metadata": {},
   "outputs": [
    {
     "name": "stderr",
     "output_type": "stream",
     "text": [
      "[nltk_data] Downloading package vader_lexicon to\n",
      "[nltk_data]     C:\\Users\\Rolando\\AppData\\Roaming\\nltk_data...\n",
      "[nltk_data]   Package vader_lexicon is already up-to-date!\n"
     ]
    }
   ],
   "source": [
    "# Se cargan las librerias necesarias\n",
    "import pandas as pd\n",
    "import numpy as np \n",
    "import nltk\n",
    "from nltk.sentiment.vader import SentimentIntensityAnalyzer\n",
    "nltk.download('vader_lexicon')\n",
    "import seaborn as sns\n",
    "import matplotlib.pyplot as plt\n",
    "\n"
   ]
  },
  {
   "cell_type": "markdown",
   "metadata": {},
   "source": [
    "Carga de todos los datasets"
   ]
  },
  {
   "cell_type": "code",
   "execution_count": 79,
   "metadata": {},
   "outputs": [],
   "source": [
    "# Se cargan los datos\n",
    "reviews = pd.read_csv('review_clean.csv', encoding='utf-8')\n",
    "#items = pd.read_csv('item_clean.csv', encoding='utf-8')\n",
    "items = pd.read_parquet('item_clean.parquet', engine='auto')\n",
    "games = pd.read_csv('games_clean.csv', encoding='utf-8')"
   ]
  },
  {
   "cell_type": "markdown",
   "metadata": {},
   "source": [
    "### Análisis de sentimientos\n",
    "Se crea una nueva columna llamada 'sentiment_analysis' que reemplace a 'reviews_review' donde se realice un análisis de sentimiento.\n",
    "La clasificacion sera:\n",
    "\n",
    "* 0 si es malo,\n",
    "* 1 si es neutral o esta sin review\n",
    "* 2 si es positivo.\n",
    "\n",
    "Se usa el SentimentIntensityAnalyzer  para realizar el analisis NLP.\n",
    "Se usaron los umbrales -0.05 y 0.05 para realizar la clasificacion. Mayor a 0.05 es positivo, menor a -0.05 negativo y entre -0.05 - 0.05 como neutral\n"
   ]
  },
  {
   "cell_type": "code",
   "execution_count": 80,
   "metadata": {},
   "outputs": [],
   "source": [
    "# Instanciar el analizador de sentimientos VADER\n",
    "sia = SentimentIntensityAnalyzer()\n",
    "\n",
    "sentiment_scores = []\n",
    "for opinion in reviews['rev_review']:\n",
    "    # Obtener el puntaje de sentimiento para cada opinión\n",
    "    sentiment = sia.polarity_scores(opinion)\n",
    "    \n",
    "    # Clasificar la opinión según el puntaje obtenido\n",
    "    if sentiment['compound'] >= 0.05:\n",
    "        sentiment_scores.append(2)  # Positivo\n",
    "    elif sentiment['compound'] <= -0.05:\n",
    "        sentiment_scores.append(0)  # Negativo\n",
    "    else:\n",
    "        sentiment_scores.append(1)  # Neutral\n",
    "\n",
    "# Añadir los resultados al DataFrame como una nueva columna\n",
    "reviews['sentiment_analysis'] = sentiment_scores\n",
    "reviews.drop('rev_review', inplace=True, axis=1)\n",
    "reviews.to_csv('reviews_sa.csv', index=False)"
   ]
  },
  {
   "cell_type": "code",
   "execution_count": 81,
   "metadata": {},
   "outputs": [
    {
     "data": {
      "text/html": [
       "<div>\n",
       "<style scoped>\n",
       "    .dataframe tbody tr th:only-of-type {\n",
       "        vertical-align: middle;\n",
       "    }\n",
       "\n",
       "    .dataframe tbody tr th {\n",
       "        vertical-align: top;\n",
       "    }\n",
       "\n",
       "    .dataframe thead th {\n",
       "        text-align: right;\n",
       "    }\n",
       "</style>\n",
       "<table border=\"1\" class=\"dataframe\">\n",
       "  <thead>\n",
       "    <tr style=\"text-align: right;\">\n",
       "      <th></th>\n",
       "      <th>user_id</th>\n",
       "      <th>user_url</th>\n",
       "      <th>variable</th>\n",
       "      <th>rev_item_id</th>\n",
       "      <th>rev_helpful</th>\n",
       "      <th>rev_recommend</th>\n",
       "      <th>año</th>\n",
       "      <th>sentiment_analysis</th>\n",
       "    </tr>\n",
       "  </thead>\n",
       "  <tbody>\n",
       "    <tr>\n",
       "      <th>0</th>\n",
       "      <td>76561197970982479</td>\n",
       "      <td>http://steamcommunity.com/profiles/76561197970...</td>\n",
       "      <td>0</td>\n",
       "      <td>1250</td>\n",
       "      <td>No ratings yet</td>\n",
       "      <td>True</td>\n",
       "      <td>2011</td>\n",
       "      <td>2</td>\n",
       "    </tr>\n",
       "    <tr>\n",
       "      <th>1</th>\n",
       "      <td>js41637</td>\n",
       "      <td>http://steamcommunity.com/id/js41637</td>\n",
       "      <td>0</td>\n",
       "      <td>251610</td>\n",
       "      <td>15 of 20 people (75%) found this review helpful</td>\n",
       "      <td>True</td>\n",
       "      <td>2014</td>\n",
       "      <td>2</td>\n",
       "    </tr>\n",
       "    <tr>\n",
       "      <th>2</th>\n",
       "      <td>evcentric</td>\n",
       "      <td>http://steamcommunity.com/id/evcentric</td>\n",
       "      <td>0</td>\n",
       "      <td>248820</td>\n",
       "      <td>No ratings yet</td>\n",
       "      <td>True</td>\n",
       "      <td>invalido</td>\n",
       "      <td>2</td>\n",
       "    </tr>\n",
       "    <tr>\n",
       "      <th>3</th>\n",
       "      <td>doctr</td>\n",
       "      <td>http://steamcommunity.com/id/doctr</td>\n",
       "      <td>0</td>\n",
       "      <td>250320</td>\n",
       "      <td>2 of 2 people (100%) found this review helpful</td>\n",
       "      <td>True</td>\n",
       "      <td>2013</td>\n",
       "      <td>2</td>\n",
       "    </tr>\n",
       "    <tr>\n",
       "      <th>4</th>\n",
       "      <td>maplemage</td>\n",
       "      <td>http://steamcommunity.com/id/maplemage</td>\n",
       "      <td>0</td>\n",
       "      <td>211420</td>\n",
       "      <td>35 of 43 people (81%) found this review helpful</td>\n",
       "      <td>True</td>\n",
       "      <td>2014</td>\n",
       "      <td>1</td>\n",
       "    </tr>\n",
       "  </tbody>\n",
       "</table>\n",
       "</div>"
      ],
      "text/plain": [
       "             user_id                                           user_url  \\\n",
       "0  76561197970982479  http://steamcommunity.com/profiles/76561197970...   \n",
       "1            js41637               http://steamcommunity.com/id/js41637   \n",
       "2          evcentric             http://steamcommunity.com/id/evcentric   \n",
       "3              doctr                 http://steamcommunity.com/id/doctr   \n",
       "4          maplemage             http://steamcommunity.com/id/maplemage   \n",
       "\n",
       "   variable  rev_item_id                                      rev_helpful  \\\n",
       "0         0         1250                                   No ratings yet   \n",
       "1         0       251610  15 of 20 people (75%) found this review helpful   \n",
       "2         0       248820                                   No ratings yet   \n",
       "3         0       250320   2 of 2 people (100%) found this review helpful   \n",
       "4         0       211420  35 of 43 people (81%) found this review helpful   \n",
       "\n",
       "   rev_recommend       año  sentiment_analysis  \n",
       "0           True      2011                   2  \n",
       "1           True      2014                   2  \n",
       "2           True  invalido                   2  \n",
       "3           True      2013                   2  \n",
       "4           True      2014                   1  "
      ]
     },
     "execution_count": 81,
     "metadata": {},
     "output_type": "execute_result"
    }
   ],
   "source": [
    "reviews.head()"
   ]
  },
  {
   "cell_type": "code",
   "execution_count": 82,
   "metadata": {},
   "outputs": [
    {
     "data": {
      "text/html": [
       "<div>\n",
       "<style scoped>\n",
       "    .dataframe tbody tr th:only-of-type {\n",
       "        vertical-align: middle;\n",
       "    }\n",
       "\n",
       "    .dataframe tbody tr th {\n",
       "        vertical-align: top;\n",
       "    }\n",
       "\n",
       "    .dataframe thead th {\n",
       "        text-align: right;\n",
       "    }\n",
       "</style>\n",
       "<table border=\"1\" class=\"dataframe\">\n",
       "  <thead>\n",
       "    <tr style=\"text-align: right;\">\n",
       "      <th></th>\n",
       "      <th>item_id</th>\n",
       "      <th>item_name</th>\n",
       "      <th>playtime_forever</th>\n",
       "      <th>playtime_2weeks</th>\n",
       "      <th>steam_id</th>\n",
       "      <th>items_count</th>\n",
       "      <th>user_id</th>\n",
       "      <th>user_url</th>\n",
       "    </tr>\n",
       "  </thead>\n",
       "  <tbody>\n",
       "    <tr>\n",
       "      <th>0</th>\n",
       "      <td>10</td>\n",
       "      <td>Counter-Strike</td>\n",
       "      <td>6</td>\n",
       "      <td>0</td>\n",
       "      <td>76561197970982479</td>\n",
       "      <td>277</td>\n",
       "      <td>76561197970982479</td>\n",
       "      <td>http://steamcommunity.com/profiles/76561197970...</td>\n",
       "    </tr>\n",
       "    <tr>\n",
       "      <th>1</th>\n",
       "      <td>20</td>\n",
       "      <td>Team Fortress Classic</td>\n",
       "      <td>0</td>\n",
       "      <td>0</td>\n",
       "      <td>76561197970982479</td>\n",
       "      <td>277</td>\n",
       "      <td>76561197970982479</td>\n",
       "      <td>http://steamcommunity.com/profiles/76561197970...</td>\n",
       "    </tr>\n",
       "    <tr>\n",
       "      <th>2</th>\n",
       "      <td>30</td>\n",
       "      <td>Day of Defeat</td>\n",
       "      <td>7</td>\n",
       "      <td>0</td>\n",
       "      <td>76561197970982479</td>\n",
       "      <td>277</td>\n",
       "      <td>76561197970982479</td>\n",
       "      <td>http://steamcommunity.com/profiles/76561197970...</td>\n",
       "    </tr>\n",
       "    <tr>\n",
       "      <th>3</th>\n",
       "      <td>40</td>\n",
       "      <td>Deathmatch Classic</td>\n",
       "      <td>0</td>\n",
       "      <td>0</td>\n",
       "      <td>76561197970982479</td>\n",
       "      <td>277</td>\n",
       "      <td>76561197970982479</td>\n",
       "      <td>http://steamcommunity.com/profiles/76561197970...</td>\n",
       "    </tr>\n",
       "    <tr>\n",
       "      <th>4</th>\n",
       "      <td>50</td>\n",
       "      <td>Half-Life: Opposing Force</td>\n",
       "      <td>0</td>\n",
       "      <td>0</td>\n",
       "      <td>76561197970982479</td>\n",
       "      <td>277</td>\n",
       "      <td>76561197970982479</td>\n",
       "      <td>http://steamcommunity.com/profiles/76561197970...</td>\n",
       "    </tr>\n",
       "  </tbody>\n",
       "</table>\n",
       "</div>"
      ],
      "text/plain": [
       "   item_id                  item_name  playtime_forever  playtime_2weeks  \\\n",
       "0       10             Counter-Strike                 6                0   \n",
       "1       20      Team Fortress Classic                 0                0   \n",
       "2       30              Day of Defeat                 7                0   \n",
       "3       40         Deathmatch Classic                 0                0   \n",
       "4       50  Half-Life: Opposing Force                 0                0   \n",
       "\n",
       "            steam_id  items_count            user_id  \\\n",
       "0  76561197970982479          277  76561197970982479   \n",
       "1  76561197970982479          277  76561197970982479   \n",
       "2  76561197970982479          277  76561197970982479   \n",
       "3  76561197970982479          277  76561197970982479   \n",
       "4  76561197970982479          277  76561197970982479   \n",
       "\n",
       "                                            user_url  \n",
       "0  http://steamcommunity.com/profiles/76561197970...  \n",
       "1  http://steamcommunity.com/profiles/76561197970...  \n",
       "2  http://steamcommunity.com/profiles/76561197970...  \n",
       "3  http://steamcommunity.com/profiles/76561197970...  \n",
       "4  http://steamcommunity.com/profiles/76561197970...  "
      ]
     },
     "execution_count": 82,
     "metadata": {},
     "output_type": "execute_result"
    }
   ],
   "source": [
    "items['item_id'] = items['item_id'].astype(int)\n",
    "items.head()"
   ]
  },
  {
   "cell_type": "code",
   "execution_count": 83,
   "metadata": {},
   "outputs": [
    {
     "data": {
      "text/html": [
       "<div>\n",
       "<style scoped>\n",
       "    .dataframe tbody tr th:only-of-type {\n",
       "        vertical-align: middle;\n",
       "    }\n",
       "\n",
       "    .dataframe tbody tr th {\n",
       "        vertical-align: top;\n",
       "    }\n",
       "\n",
       "    .dataframe thead th {\n",
       "        text-align: right;\n",
       "    }\n",
       "</style>\n",
       "<table border=\"1\" class=\"dataframe\">\n",
       "  <thead>\n",
       "    <tr style=\"text-align: right;\">\n",
       "      <th></th>\n",
       "      <th>publisher</th>\n",
       "      <th>genres</th>\n",
       "      <th>app_name</th>\n",
       "      <th>title</th>\n",
       "      <th>price</th>\n",
       "      <th>early_access</th>\n",
       "      <th>id</th>\n",
       "      <th>developer</th>\n",
       "      <th>rel_year</th>\n",
       "    </tr>\n",
       "  </thead>\n",
       "  <tbody>\n",
       "    <tr>\n",
       "      <th>0</th>\n",
       "      <td>Kotoshiro</td>\n",
       "      <td>Action</td>\n",
       "      <td>Lost Summoner Kitty</td>\n",
       "      <td>Lost Summoner Kitty</td>\n",
       "      <td>4.99</td>\n",
       "      <td>0.0</td>\n",
       "      <td>761140</td>\n",
       "      <td>Kotoshiro</td>\n",
       "      <td>2018</td>\n",
       "    </tr>\n",
       "    <tr>\n",
       "      <th>1</th>\n",
       "      <td>Kotoshiro</td>\n",
       "      <td>Casual</td>\n",
       "      <td>Lost Summoner Kitty</td>\n",
       "      <td>Lost Summoner Kitty</td>\n",
       "      <td>4.99</td>\n",
       "      <td>0.0</td>\n",
       "      <td>761140</td>\n",
       "      <td>Kotoshiro</td>\n",
       "      <td>2018</td>\n",
       "    </tr>\n",
       "    <tr>\n",
       "      <th>2</th>\n",
       "      <td>Kotoshiro</td>\n",
       "      <td>Indie</td>\n",
       "      <td>Lost Summoner Kitty</td>\n",
       "      <td>Lost Summoner Kitty</td>\n",
       "      <td>4.99</td>\n",
       "      <td>0.0</td>\n",
       "      <td>761140</td>\n",
       "      <td>Kotoshiro</td>\n",
       "      <td>2018</td>\n",
       "    </tr>\n",
       "    <tr>\n",
       "      <th>3</th>\n",
       "      <td>Kotoshiro</td>\n",
       "      <td>Simulation</td>\n",
       "      <td>Lost Summoner Kitty</td>\n",
       "      <td>Lost Summoner Kitty</td>\n",
       "      <td>4.99</td>\n",
       "      <td>0.0</td>\n",
       "      <td>761140</td>\n",
       "      <td>Kotoshiro</td>\n",
       "      <td>2018</td>\n",
       "    </tr>\n",
       "    <tr>\n",
       "      <th>4</th>\n",
       "      <td>Kotoshiro</td>\n",
       "      <td>Strategy</td>\n",
       "      <td>Lost Summoner Kitty</td>\n",
       "      <td>Lost Summoner Kitty</td>\n",
       "      <td>4.99</td>\n",
       "      <td>0.0</td>\n",
       "      <td>761140</td>\n",
       "      <td>Kotoshiro</td>\n",
       "      <td>2018</td>\n",
       "    </tr>\n",
       "  </tbody>\n",
       "</table>\n",
       "</div>"
      ],
      "text/plain": [
       "   publisher      genres             app_name                title  price  \\\n",
       "0  Kotoshiro      Action  Lost Summoner Kitty  Lost Summoner Kitty   4.99   \n",
       "1  Kotoshiro      Casual  Lost Summoner Kitty  Lost Summoner Kitty   4.99   \n",
       "2  Kotoshiro       Indie  Lost Summoner Kitty  Lost Summoner Kitty   4.99   \n",
       "3  Kotoshiro  Simulation  Lost Summoner Kitty  Lost Summoner Kitty   4.99   \n",
       "4  Kotoshiro    Strategy  Lost Summoner Kitty  Lost Summoner Kitty   4.99   \n",
       "\n",
       "   early_access      id  developer rel_year  \n",
       "0           0.0  761140  Kotoshiro     2018  \n",
       "1           0.0  761140  Kotoshiro     2018  \n",
       "2           0.0  761140  Kotoshiro     2018  \n",
       "3           0.0  761140  Kotoshiro     2018  \n",
       "4           0.0  761140  Kotoshiro     2018  "
      ]
     },
     "execution_count": 83,
     "metadata": {},
     "output_type": "execute_result"
    }
   ],
   "source": [
    "games['id'] = games['id'].astype(int)\n",
    "games.head()"
   ]
  },
  {
   "cell_type": "markdown",
   "metadata": {},
   "source": [
    "### Analisis Dataframe items"
   ]
  },
  {
   "cell_type": "code",
   "execution_count": 84,
   "metadata": {},
   "outputs": [
    {
     "data": {
      "text/html": [
       "<div>\n",
       "<style scoped>\n",
       "    .dataframe tbody tr th:only-of-type {\n",
       "        vertical-align: middle;\n",
       "    }\n",
       "\n",
       "    .dataframe tbody tr th {\n",
       "        vertical-align: top;\n",
       "    }\n",
       "\n",
       "    .dataframe thead th {\n",
       "        text-align: right;\n",
       "    }\n",
       "</style>\n",
       "<table border=\"1\" class=\"dataframe\">\n",
       "  <thead>\n",
       "    <tr style=\"text-align: right;\">\n",
       "      <th></th>\n",
       "      <th>item_id</th>\n",
       "      <th>playtime_forever</th>\n",
       "      <th>user_id</th>\n",
       "    </tr>\n",
       "  </thead>\n",
       "  <tbody>\n",
       "    <tr>\n",
       "      <th>0</th>\n",
       "      <td>10</td>\n",
       "      <td>6</td>\n",
       "      <td>76561197970982479</td>\n",
       "    </tr>\n",
       "    <tr>\n",
       "      <th>1</th>\n",
       "      <td>20</td>\n",
       "      <td>0</td>\n",
       "      <td>76561197970982479</td>\n",
       "    </tr>\n",
       "    <tr>\n",
       "      <th>2</th>\n",
       "      <td>30</td>\n",
       "      <td>7</td>\n",
       "      <td>76561197970982479</td>\n",
       "    </tr>\n",
       "    <tr>\n",
       "      <th>3</th>\n",
       "      <td>40</td>\n",
       "      <td>0</td>\n",
       "      <td>76561197970982479</td>\n",
       "    </tr>\n",
       "    <tr>\n",
       "      <th>4</th>\n",
       "      <td>50</td>\n",
       "      <td>0</td>\n",
       "      <td>76561197970982479</td>\n",
       "    </tr>\n",
       "    <tr>\n",
       "      <th>...</th>\n",
       "      <td>...</td>\n",
       "      <td>...</td>\n",
       "      <td>...</td>\n",
       "    </tr>\n",
       "    <tr>\n",
       "      <th>5153204</th>\n",
       "      <td>346330</td>\n",
       "      <td>0</td>\n",
       "      <td>76561198329548331</td>\n",
       "    </tr>\n",
       "    <tr>\n",
       "      <th>5153205</th>\n",
       "      <td>373330</td>\n",
       "      <td>0</td>\n",
       "      <td>76561198329548331</td>\n",
       "    </tr>\n",
       "    <tr>\n",
       "      <th>5153206</th>\n",
       "      <td>388490</td>\n",
       "      <td>3</td>\n",
       "      <td>76561198329548331</td>\n",
       "    </tr>\n",
       "    <tr>\n",
       "      <th>5153207</th>\n",
       "      <td>521570</td>\n",
       "      <td>4</td>\n",
       "      <td>76561198329548331</td>\n",
       "    </tr>\n",
       "    <tr>\n",
       "      <th>5153208</th>\n",
       "      <td>519140</td>\n",
       "      <td>3</td>\n",
       "      <td>76561198329548331</td>\n",
       "    </tr>\n",
       "  </tbody>\n",
       "</table>\n",
       "<p>5094092 rows × 3 columns</p>\n",
       "</div>"
      ],
      "text/plain": [
       "         item_id  playtime_forever            user_id\n",
       "0             10                 6  76561197970982479\n",
       "1             20                 0  76561197970982479\n",
       "2             30                 7  76561197970982479\n",
       "3             40                 0  76561197970982479\n",
       "4             50                 0  76561197970982479\n",
       "...          ...               ...                ...\n",
       "5153204   346330                 0  76561198329548331\n",
       "5153205   373330                 0  76561198329548331\n",
       "5153206   388490                 3  76561198329548331\n",
       "5153207   521570                 4  76561198329548331\n",
       "5153208   519140                 3  76561198329548331\n",
       "\n",
       "[5094092 rows x 3 columns]"
      ]
     },
     "execution_count": 84,
     "metadata": {},
     "output_type": "execute_result"
    }
   ],
   "source": [
    "# Se toman las columnas necesarias para el analisis\n",
    "items_analisis = items[['item_id',  'playtime_forever', 'user_id']]\n",
    "items_analisis = items_analisis.drop_duplicates()\n",
    "items_analisis"
   ]
  },
  {
   "cell_type": "code",
   "execution_count": 85,
   "metadata": {},
   "outputs": [
    {
     "data": {
      "image/png": "[encoded data removed]",
      "text/plain": [
       "<Figure size 640x480 with 1 Axes>"
      ]
     },
     "metadata": {},
     "output_type": "display_data"
    }
   ],
   "source": [
    "# Se grafica la distribucion de horas acumuladas jugadas por un usuario\n",
    "sns.boxplot(y=items_analisis['playtime_forever'])\n",
    "\n",
    "# Mostrar el gráfico\n",
    "plt.title('Distribucion de la columna playtime_forever sin filtrar')\n",
    "plt.show()"
   ]
  },
  {
   "cell_type": "markdown",
   "metadata": {},
   "source": [
    "Como se puede ver hay muchos outliers, muy grandes  que no permiten apreciar los detalles del grafico, tambien se puede ver muchos valores 0. <br>\n",
    "Se procede a filtrar el dataframe tomando valores teniendo un criterio que se explicara mas adelante\n",
    "\n"
   ]
  },
  {
   "cell_type": "code",
   "execution_count": 86,
   "metadata": {},
   "outputs": [
    {
     "data": {
      "text/html": [
       "<div>\n",
       "<style scoped>\n",
       "    .dataframe tbody tr th:only-of-type {\n",
       "        vertical-align: middle;\n",
       "    }\n",
       "\n",
       "    .dataframe tbody tr th {\n",
       "        vertical-align: top;\n",
       "    }\n",
       "\n",
       "    .dataframe thead th {\n",
       "        text-align: right;\n",
       "    }\n",
       "</style>\n",
       "<table border=\"1\" class=\"dataframe\">\n",
       "  <thead>\n",
       "    <tr style=\"text-align: right;\">\n",
       "      <th></th>\n",
       "      <th>item_id</th>\n",
       "      <th>playtime_forever</th>\n",
       "      <th>user_id</th>\n",
       "    </tr>\n",
       "  </thead>\n",
       "  <tbody>\n",
       "    <tr>\n",
       "      <th>0</th>\n",
       "      <td>10</td>\n",
       "      <td>6</td>\n",
       "      <td>76561197970982479</td>\n",
       "    </tr>\n",
       "    <tr>\n",
       "      <th>2</th>\n",
       "      <td>30</td>\n",
       "      <td>7</td>\n",
       "      <td>76561197970982479</td>\n",
       "    </tr>\n",
       "    <tr>\n",
       "      <th>8</th>\n",
       "      <td>300</td>\n",
       "      <td>4733</td>\n",
       "      <td>76561197970982479</td>\n",
       "    </tr>\n",
       "    <tr>\n",
       "      <th>9</th>\n",
       "      <td>240</td>\n",
       "      <td>1853</td>\n",
       "      <td>76561197970982479</td>\n",
       "    </tr>\n",
       "    <tr>\n",
       "      <th>10</th>\n",
       "      <td>3830</td>\n",
       "      <td>333</td>\n",
       "      <td>76561197970982479</td>\n",
       "    </tr>\n",
       "    <tr>\n",
       "      <th>...</th>\n",
       "      <td>...</td>\n",
       "      <td>...</td>\n",
       "      <td>...</td>\n",
       "    </tr>\n",
       "    <tr>\n",
       "      <th>5153202</th>\n",
       "      <td>304930</td>\n",
       "      <td>677</td>\n",
       "      <td>76561198329548331</td>\n",
       "    </tr>\n",
       "    <tr>\n",
       "      <th>5153203</th>\n",
       "      <td>227940</td>\n",
       "      <td>43</td>\n",
       "      <td>76561198329548331</td>\n",
       "    </tr>\n",
       "    <tr>\n",
       "      <th>5153206</th>\n",
       "      <td>388490</td>\n",
       "      <td>3</td>\n",
       "      <td>76561198329548331</td>\n",
       "    </tr>\n",
       "    <tr>\n",
       "      <th>5153207</th>\n",
       "      <td>521570</td>\n",
       "      <td>4</td>\n",
       "      <td>76561198329548331</td>\n",
       "    </tr>\n",
       "    <tr>\n",
       "      <th>5153208</th>\n",
       "      <td>519140</td>\n",
       "      <td>3</td>\n",
       "      <td>76561198329548331</td>\n",
       "    </tr>\n",
       "  </tbody>\n",
       "</table>\n",
       "<p>3148572 rows × 3 columns</p>\n",
       "</div>"
      ],
      "text/plain": [
       "         item_id  playtime_forever            user_id\n",
       "0             10                 6  76561197970982479\n",
       "2             30                 7  76561197970982479\n",
       "8            300              4733  76561197970982479\n",
       "9            240              1853  76561197970982479\n",
       "10          3830               333  76561197970982479\n",
       "...          ...               ...                ...\n",
       "5153202   304930               677  76561198329548331\n",
       "5153203   227940                43  76561198329548331\n",
       "5153206   388490                 3  76561198329548331\n",
       "5153207   521570                 4  76561198329548331\n",
       "5153208   519140                 3  76561198329548331\n",
       "\n",
       "[3148572 rows x 3 columns]"
      ]
     },
     "execution_count": 86,
     "metadata": {},
     "output_type": "execute_result"
    }
   ],
   "source": [
    "filtro = (items_analisis['playtime_forever'] > 0) & (items_analisis['playtime_forever'] <= 10000)\n",
    "items_analisis_filtrado = items_analisis[filtro]\n",
    "items_analisis_filtrado"
   ]
  },
  {
   "cell_type": "code",
   "execution_count": 87,
   "metadata": {},
   "outputs": [
    {
     "data": {
      "text/html": [
       "<div>\n",
       "<style scoped>\n",
       "    .dataframe tbody tr th:only-of-type {\n",
       "        vertical-align: middle;\n",
       "    }\n",
       "\n",
       "    .dataframe tbody tr th {\n",
       "        vertical-align: top;\n",
       "    }\n",
       "\n",
       "    .dataframe thead th {\n",
       "        text-align: right;\n",
       "    }\n",
       "</style>\n",
       "<table border=\"1\" class=\"dataframe\">\n",
       "  <thead>\n",
       "    <tr style=\"text-align: right;\">\n",
       "      <th></th>\n",
       "      <th>item_id</th>\n",
       "      <th>playtime_forever</th>\n",
       "      <th>user_id</th>\n",
       "    </tr>\n",
       "  </thead>\n",
       "  <tbody>\n",
       "    <tr>\n",
       "      <th>46</th>\n",
       "      <td>1250</td>\n",
       "      <td>10006</td>\n",
       "      <td>76561197970982479</td>\n",
       "    </tr>\n",
       "    <tr>\n",
       "      <th>104</th>\n",
       "      <td>8930</td>\n",
       "      <td>10345</td>\n",
       "      <td>76561197970982479</td>\n",
       "    </tr>\n",
       "    <tr>\n",
       "      <th>155</th>\n",
       "      <td>35450</td>\n",
       "      <td>14194</td>\n",
       "      <td>76561197970982479</td>\n",
       "    </tr>\n",
       "    <tr>\n",
       "      <th>178</th>\n",
       "      <td>730</td>\n",
       "      <td>23532</td>\n",
       "      <td>76561197970982479</td>\n",
       "    </tr>\n",
       "    <tr>\n",
       "      <th>465</th>\n",
       "      <td>72850</td>\n",
       "      <td>13831</td>\n",
       "      <td>js41637</td>\n",
       "    </tr>\n",
       "    <tr>\n",
       "      <th>...</th>\n",
       "      <td>...</td>\n",
       "      <td>...</td>\n",
       "      <td>...</td>\n",
       "    </tr>\n",
       "    <tr>\n",
       "      <th>5150894</th>\n",
       "      <td>304930</td>\n",
       "      <td>13572</td>\n",
       "      <td>76561198288092724</td>\n",
       "    </tr>\n",
       "    <tr>\n",
       "      <th>5150968</th>\n",
       "      <td>730</td>\n",
       "      <td>29789</td>\n",
       "      <td>sexyawp</td>\n",
       "    </tr>\n",
       "    <tr>\n",
       "      <th>5151088</th>\n",
       "      <td>730</td>\n",
       "      <td>16635</td>\n",
       "      <td>tarik22</td>\n",
       "    </tr>\n",
       "    <tr>\n",
       "      <th>5152561</th>\n",
       "      <td>304930</td>\n",
       "      <td>20201</td>\n",
       "      <td>76561198304604920</td>\n",
       "    </tr>\n",
       "    <tr>\n",
       "      <th>5152587</th>\n",
       "      <td>730</td>\n",
       "      <td>20016</td>\n",
       "      <td>76561198310819422</td>\n",
       "    </tr>\n",
       "  </tbody>\n",
       "</table>\n",
       "<p>97790 rows × 3 columns</p>\n",
       "</div>"
      ],
      "text/plain": [
       "         item_id  playtime_forever            user_id\n",
       "46          1250             10006  76561197970982479\n",
       "104         8930             10345  76561197970982479\n",
       "155        35450             14194  76561197970982479\n",
       "178          730             23532  76561197970982479\n",
       "465        72850             13831            js41637\n",
       "...          ...               ...                ...\n",
       "5150894   304930             13572  76561198288092724\n",
       "5150968      730             29789            sexyawp\n",
       "5151088      730             16635            tarik22\n",
       "5152561   304930             20201  76561198304604920\n",
       "5152587      730             20016  76561198310819422\n",
       "\n",
       "[97790 rows x 3 columns]"
      ]
     },
     "execution_count": 87,
     "metadata": {},
     "output_type": "execute_result"
    }
   ],
   "source": [
    "# Se hace un segundo filtro para ver la cantidad de filas que quedaron pore fuera del filtro anterior\n",
    "filtro2 = (items_analisis['playtime_forever'] > 10000) & (items_analisis['playtime_forever'].max())\n",
    "analisis_mayor = items_analisis[filtro2]\n",
    "analisis_mayor"
   ]
  },
  {
   "cell_type": "markdown",
   "metadata": {},
   "source": [
    "Se grafica ahora el dataframe filtrado"
   ]
  },
  {
   "cell_type": "code",
   "execution_count": 88,
   "metadata": {},
   "outputs": [
    {
     "data": {
      "image/png": "[encoded data removed]",
      "text/plain": [
       "<Figure size 640x480 with 1 Axes>"
      ]
     },
     "metadata": {},
     "output_type": "display_data"
    }
   ],
   "source": [
    "sns.boxplot(y=items_analisis_filtrado['playtime_forever'])\n",
    "\n",
    "# Mostrar el gráfico\n",
    "plt.title('Distribucion de la columna playtime_forever filtrada')\n",
    "plt.show()"
   ]
  },
  {
   "cell_type": "markdown",
   "metadata": {},
   "source": [
    "Se grafica el dataframe con los valores que estan por fuera del filtro aplicado"
   ]
  },
  {
   "cell_type": "code",
   "execution_count": 89,
   "metadata": {},
   "outputs": [
    {
     "data": {
      "image/png": "[encoded data removed]",
      "text/plain": [
       "<Figure size 640x480 with 1 Axes>"
      ]
     },
     "metadata": {},
     "output_type": "display_data"
    }
   ],
   "source": [
    "sns.boxplot(y=analisis_mayor['playtime_forever'])\n",
    "# Mostrar el gráfico\n",
    "plt.title('Distribucion de la columna playtime_forever de los valores que estan fuera del filtro aplicado')\n",
    "plt.show()"
   ]
  },
  {
   "cell_type": "markdown",
   "metadata": {},
   "source": [
    "Se muestran la lista de los años en que se hicieron los lanzamientos al mercado de los juegos"
   ]
  },
  {
   "cell_type": "code",
   "execution_count": 90,
   "metadata": {},
   "outputs": [
    {
     "data": {
      "text/plain": [
       "array(['2018', '2017', 'No_disponible', '1997', '1998', '2016', '2006',\n",
       "       '2005', '2003', '2007', '2002', '2000', '1995', '1996', '1994',\n",
       "       '2001', '1993', '2004', '1999', '2008', '2009', '1992', '1989',\n",
       "       '2010', '2011', '2013', '2012', '2014', '1983', '1984', '2015',\n",
       "       '1990', '1988', '1991', '1987', '1986', '2021', '5275', '2019',\n",
       "       '1985'], dtype=object)"
      ]
     },
     "execution_count": 90,
     "metadata": {},
     "output_type": "execute_result"
    }
   ],
   "source": [
    "games.rel_year.unique()"
   ]
  },
  {
   "cell_type": "markdown",
   "metadata": {},
   "source": [
    "Teniendo en cuenta todo lo mostrado en las grafica y en la informacion anterior, puede llegar a tener sentido que un juego lanzado en los 80's o 90' pueda tener <br>\n",
    "un acumulado de horas jugadas mayor a 6000. Pero esto no se puede estimar con los datos que se tienen, se deberia tener un promedio de horas de juego de los usuarios, <br>\n",
    "la moda o la media, para estimar de una manera mas exacta que valores tendrian mas sentido, porque definitivamente valores mayores a 100.00 estan fuera de toda logica. <br>\n",
    "\n",
    "Para el presente trabajo se tomo la decision simplemente de trabajar con el rango donde se encuentre la MAYORIA de datos, aunque se puede perder informacion importante <br> \n",
    "se cree que es la mejor decision que se puede tomar con la actual informacion. <br>\n",
    "\n",
    "Se va a trabajar con el 96.89% de los datos relevantes como se muestra a continuacion, teniendo en cuenta que se descarto  playtime_forever = 0 para estos calculos."
   ]
  },
  {
   "cell_type": "code",
   "execution_count": 91,
   "metadata": {},
   "outputs": [
    {
     "name": "stdout",
     "output_type": "stream",
     "text": [
      "Se va atrabajar con un: 96.89% de la cantidad de datos iniciales relevantes\n"
     ]
    }
   ],
   "source": [
    "porcentaje =  (1 - len(analisis_mayor) / len(items_analisis_filtrado)) * 100\n",
    "print(f\"Se va atrabajar con un: {porcentaje:.2f}% de la cantidad de datos iniciales relevantes\")                                                                                     \n"
   ]
  },
  {
   "cell_type": "markdown",
   "metadata": {},
   "source": [
    "Se filtra el dataframe inicial items teniendo en cuenta lo anterior."
   ]
  },
  {
   "cell_type": "code",
   "execution_count": 92,
   "metadata": {},
   "outputs": [
    {
     "data": {
      "text/html": [
       "<div>\n",
       "<style scoped>\n",
       "    .dataframe tbody tr th:only-of-type {\n",
       "        vertical-align: middle;\n",
       "    }\n",
       "\n",
       "    .dataframe tbody tr th {\n",
       "        vertical-align: top;\n",
       "    }\n",
       "\n",
       "    .dataframe thead th {\n",
       "        text-align: right;\n",
       "    }\n",
       "</style>\n",
       "<table border=\"1\" class=\"dataframe\">\n",
       "  <thead>\n",
       "    <tr style=\"text-align: right;\">\n",
       "      <th></th>\n",
       "      <th>item_id</th>\n",
       "      <th>item_name</th>\n",
       "      <th>playtime_forever</th>\n",
       "      <th>playtime_2weeks</th>\n",
       "      <th>steam_id</th>\n",
       "      <th>items_count</th>\n",
       "      <th>user_id</th>\n",
       "      <th>user_url</th>\n",
       "    </tr>\n",
       "  </thead>\n",
       "  <tbody>\n",
       "    <tr>\n",
       "      <th>0</th>\n",
       "      <td>10</td>\n",
       "      <td>Counter-Strike</td>\n",
       "      <td>6</td>\n",
       "      <td>0</td>\n",
       "      <td>76561197970982479</td>\n",
       "      <td>277</td>\n",
       "      <td>76561197970982479</td>\n",
       "      <td>http://steamcommunity.com/profiles/76561197970...</td>\n",
       "    </tr>\n",
       "    <tr>\n",
       "      <th>2</th>\n",
       "      <td>30</td>\n",
       "      <td>Day of Defeat</td>\n",
       "      <td>7</td>\n",
       "      <td>0</td>\n",
       "      <td>76561197970982479</td>\n",
       "      <td>277</td>\n",
       "      <td>76561197970982479</td>\n",
       "      <td>http://steamcommunity.com/profiles/76561197970...</td>\n",
       "    </tr>\n",
       "    <tr>\n",
       "      <th>8</th>\n",
       "      <td>300</td>\n",
       "      <td>Day of Defeat: Source</td>\n",
       "      <td>4733</td>\n",
       "      <td>0</td>\n",
       "      <td>76561197970982479</td>\n",
       "      <td>277</td>\n",
       "      <td>76561197970982479</td>\n",
       "      <td>http://steamcommunity.com/profiles/76561197970...</td>\n",
       "    </tr>\n",
       "    <tr>\n",
       "      <th>9</th>\n",
       "      <td>240</td>\n",
       "      <td>Counter-Strike: Source</td>\n",
       "      <td>1853</td>\n",
       "      <td>0</td>\n",
       "      <td>76561197970982479</td>\n",
       "      <td>277</td>\n",
       "      <td>76561197970982479</td>\n",
       "      <td>http://steamcommunity.com/profiles/76561197970...</td>\n",
       "    </tr>\n",
       "    <tr>\n",
       "      <th>10</th>\n",
       "      <td>3830</td>\n",
       "      <td>Psychonauts</td>\n",
       "      <td>333</td>\n",
       "      <td>0</td>\n",
       "      <td>76561197970982479</td>\n",
       "      <td>277</td>\n",
       "      <td>76561197970982479</td>\n",
       "      <td>http://steamcommunity.com/profiles/76561197970...</td>\n",
       "    </tr>\n",
       "    <tr>\n",
       "      <th>...</th>\n",
       "      <td>...</td>\n",
       "      <td>...</td>\n",
       "      <td>...</td>\n",
       "      <td>...</td>\n",
       "      <td>...</td>\n",
       "      <td>...</td>\n",
       "      <td>...</td>\n",
       "      <td>...</td>\n",
       "    </tr>\n",
       "    <tr>\n",
       "      <th>5153202</th>\n",
       "      <td>304930</td>\n",
       "      <td>Unturned</td>\n",
       "      <td>677</td>\n",
       "      <td>677</td>\n",
       "      <td>76561198329548331</td>\n",
       "      <td>7</td>\n",
       "      <td>76561198329548331</td>\n",
       "      <td>http://steamcommunity.com/profiles/76561198329...</td>\n",
       "    </tr>\n",
       "    <tr>\n",
       "      <th>5153203</th>\n",
       "      <td>227940</td>\n",
       "      <td>Heroes &amp; Generals</td>\n",
       "      <td>43</td>\n",
       "      <td>43</td>\n",
       "      <td>76561198329548331</td>\n",
       "      <td>7</td>\n",
       "      <td>76561198329548331</td>\n",
       "      <td>http://steamcommunity.com/profiles/76561198329...</td>\n",
       "    </tr>\n",
       "    <tr>\n",
       "      <th>5153206</th>\n",
       "      <td>388490</td>\n",
       "      <td>One Way To Die: Steam Edition</td>\n",
       "      <td>3</td>\n",
       "      <td>3</td>\n",
       "      <td>76561198329548331</td>\n",
       "      <td>7</td>\n",
       "      <td>76561198329548331</td>\n",
       "      <td>http://steamcommunity.com/profiles/76561198329...</td>\n",
       "    </tr>\n",
       "    <tr>\n",
       "      <th>5153207</th>\n",
       "      <td>521570</td>\n",
       "      <td>You Have 10 Seconds 2</td>\n",
       "      <td>4</td>\n",
       "      <td>4</td>\n",
       "      <td>76561198329548331</td>\n",
       "      <td>7</td>\n",
       "      <td>76561198329548331</td>\n",
       "      <td>http://steamcommunity.com/profiles/76561198329...</td>\n",
       "    </tr>\n",
       "    <tr>\n",
       "      <th>5153208</th>\n",
       "      <td>519140</td>\n",
       "      <td>Minds Eyes</td>\n",
       "      <td>3</td>\n",
       "      <td>3</td>\n",
       "      <td>76561198329548331</td>\n",
       "      <td>7</td>\n",
       "      <td>76561198329548331</td>\n",
       "      <td>http://steamcommunity.com/profiles/76561198329...</td>\n",
       "    </tr>\n",
       "  </tbody>\n",
       "</table>\n",
       "<p>3148582 rows × 8 columns</p>\n",
       "</div>"
      ],
      "text/plain": [
       "         item_id                      item_name  playtime_forever  \\\n",
       "0             10                 Counter-Strike                 6   \n",
       "2             30                  Day of Defeat                 7   \n",
       "8            300          Day of Defeat: Source              4733   \n",
       "9            240         Counter-Strike: Source              1853   \n",
       "10          3830                    Psychonauts               333   \n",
       "...          ...                            ...               ...   \n",
       "5153202   304930                       Unturned               677   \n",
       "5153203   227940              Heroes & Generals                43   \n",
       "5153206   388490  One Way To Die: Steam Edition                 3   \n",
       "5153207   521570          You Have 10 Seconds 2                 4   \n",
       "5153208   519140                     Minds Eyes                 3   \n",
       "\n",
       "         playtime_2weeks           steam_id  items_count            user_id  \\\n",
       "0                      0  76561197970982479          277  76561197970982479   \n",
       "2                      0  76561197970982479          277  76561197970982479   \n",
       "8                      0  76561197970982479          277  76561197970982479   \n",
       "9                      0  76561197970982479          277  76561197970982479   \n",
       "10                     0  76561197970982479          277  76561197970982479   \n",
       "...                  ...                ...          ...                ...   \n",
       "5153202              677  76561198329548331            7  76561198329548331   \n",
       "5153203               43  76561198329548331            7  76561198329548331   \n",
       "5153206                3  76561198329548331            7  76561198329548331   \n",
       "5153207                4  76561198329548331            7  76561198329548331   \n",
       "5153208                3  76561198329548331            7  76561198329548331   \n",
       "\n",
       "                                                  user_url  \n",
       "0        http://steamcommunity.com/profiles/76561197970...  \n",
       "2        http://steamcommunity.com/profiles/76561197970...  \n",
       "8        http://steamcommunity.com/profiles/76561197970...  \n",
       "9        http://steamcommunity.com/profiles/76561197970...  \n",
       "10       http://steamcommunity.com/profiles/76561197970...  \n",
       "...                                                    ...  \n",
       "5153202  http://steamcommunity.com/profiles/76561198329...  \n",
       "5153203  http://steamcommunity.com/profiles/76561198329...  \n",
       "5153206  http://steamcommunity.com/profiles/76561198329...  \n",
       "5153207  http://steamcommunity.com/profiles/76561198329...  \n",
       "5153208  http://steamcommunity.com/profiles/76561198329...  \n",
       "\n",
       "[3148582 rows x 8 columns]"
      ]
     },
     "execution_count": 92,
     "metadata": {},
     "output_type": "execute_result"
    }
   ],
   "source": [
    "filtro_def = (items['playtime_forever'] > 0) & (items['playtime_forever'] <= 10000)\n",
    "items = items[filtro_def]\n",
    "items"
   ]
  },
  {
   "cell_type": "markdown",
   "metadata": {},
   "source": [
    "### Dataset para la Funcion PlayTimeGenre"
   ]
  },
  {
   "cell_type": "markdown",
   "metadata": {},
   "source": [
    "Para devolver el año con mas horas jugadas en un determinado genero, se necesita los datos de games e items.<br>\n",
    "Se toman las columnas necesarias para lograr el objetivo\n"
   ]
  },
  {
   "cell_type": "code",
   "execution_count": 93,
   "metadata": {},
   "outputs": [],
   "source": [
    "games_play = games[['id', 'genres', 'rel_year']] \n",
    "items_play = items[['item_id', 'item_name', 'playtime_forever', 'user_id']]\n",
    "\n",
    "# Se cambia el nombre de la fila id por item_id para realizar la union de una forma mas clara\n",
    "games_play = games_play.rename(columns={'id':'item_id'})\n"
   ]
  },
  {
   "cell_type": "markdown",
   "metadata": {},
   "source": [
    "Se hace la union entre items_mod y  games_mod"
   ]
  },
  {
   "cell_type": "code",
   "execution_count": 94,
   "metadata": {},
   "outputs": [],
   "source": [
    "playtime = items_play.merge(games_play, on='item_id')\n",
    "playtime =  playtime.drop_duplicates()"
   ]
  },
  {
   "cell_type": "markdown",
   "metadata": {},
   "source": [
    "Al hacer el Deploy en render se presento un inconveniente por falta de memoria, entonces se determino simplificar aun mas los datasets <br>\n",
    "para que corrieran en esta plataforma"
   ]
  },
  {
   "cell_type": "code",
   "execution_count": 95,
   "metadata": {},
   "outputs": [
    {
     "data": {
      "text/plain": [
       "(351, 3)"
      ]
     },
     "execution_count": 95,
     "metadata": {},
     "output_type": "execute_result"
    }
   ],
   "source": [
    "playtime = playtime.groupby(['genres', 'rel_year'])['playtime_forever'].sum().reset_index()\n",
    "playtime.shape"
   ]
  },
  {
   "cell_type": "code",
   "execution_count": 96,
   "metadata": {},
   "outputs": [
    {
     "name": "stdout",
     "output_type": "stream",
     "text": [
      "Se guardó el archivo\n"
     ]
    }
   ],
   "source": [
    "playtime.to_csv('playtime.csv', index=False)\n",
    "print(f'Se guardó el archivo')"
   ]
  },
  {
   "cell_type": "markdown",
   "metadata": {},
   "source": [
    "### Dataset para la Funcion UserForGenre"
   ]
  },
  {
   "cell_type": "markdown",
   "metadata": {},
   "source": [
    "Para devolver el usuario que acumula mas horas jugadas para un determinado genero y una lista de la acumulacion de horas jugadas por año,<br>\n",
    "se necesita los datos de games e items<br>\n",
    "Se toman las columnas necesarias para lograr este objetivo"
   ]
  },
  {
   "cell_type": "code",
   "execution_count": 97,
   "metadata": {},
   "outputs": [],
   "source": [
    "games_user = games[['id', 'genres', 'rel_year']] \n",
    "items_user = items[['item_id', 'playtime_forever', 'user_id']]\n",
    "\n",
    "# Se cambia el nombre de la fila id por item_id para realizar la union de una forma mas clara\n",
    "games_user = games_user.rename(columns={'id':'item_id'})\n"
   ]
  },
  {
   "cell_type": "markdown",
   "metadata": {},
   "source": [
    "Se hace la union de items_user y games_user"
   ]
  },
  {
   "cell_type": "code",
   "execution_count": 98,
   "metadata": {},
   "outputs": [],
   "source": [
    "userfor = games_user.merge(items_user, on='item_id')\n",
    "userfor.drop_duplicates(inplace=True)\n",
    "userfor = userfor[userfor['playtime_forever'] != 0]"
   ]
  },
  {
   "cell_type": "markdown",
   "metadata": {},
   "source": [
    "Se simplifica mas el dataset para que la funcion pueda correr en el deploy de render. <br>\n",
    "Se agrupa con el fin de obtener los usuarios que mas horas han jugado en determinado genero"
   ]
  },
  {
   "cell_type": "code",
   "execution_count": 99,
   "metadata": {},
   "outputs": [],
   "source": [
    "# Se agrupa y se  suman las horas jugadas por usuario, género y año\n",
    "userfor_group = userfor.groupby(['user_id', 'genres', 'rel_year'])['playtime_forever'].sum().reset_index()\n",
    "\n",
    "# Se buscan los índices de las filas con el máximo 'playtime_forever' por género\n",
    "idx = userfor_group.groupby('genres')['playtime_forever'].idxmax()\n",
    "\n",
    "# Obtener los 'user_id' correspondientes a esos índices\n",
    "user_filtro = userfor_group.loc[idx].groupby('genres')['user_id'].apply(list)"
   ]
  },
  {
   "cell_type": "markdown",
   "metadata": {},
   "source": [
    "Con la lista de usuarios que mas juegan un genero, se filtra el dataset para no solo tener el dato, sino para poder mostrar cuantas <br>\n",
    "horas ha jugado cada año en ese genero."
   ]
  },
  {
   "cell_type": "code",
   "execution_count": 100,
   "metadata": {},
   "outputs": [],
   "source": [
    "userfor = userfor_group[userfor_group['user_id'].isin(user_filtro.explode())]"
   ]
  },
  {
   "cell_type": "code",
   "execution_count": 101,
   "metadata": {},
   "outputs": [
    {
     "name": "stdout",
     "output_type": "stream",
     "text": [
      "Se guardó el archivo\n"
     ]
    }
   ],
   "source": [
    "userfor.to_csv('userfor.csv', index=False)\n",
    "print(f'Se guardó el archivo')"
   ]
  },
  {
   "cell_type": "markdown",
   "metadata": {},
   "source": [
    "### Dataset para la Funcion UsersRecommend "
   ]
  },
  {
   "cell_type": "markdown",
   "metadata": {},
   "source": [
    "Para devolver el top 3 de juegos mas recomendados por usuarios para el año dado <br>\n",
    "Se usa el dataset reviews y games. Se dejan solo las columnas necesarias"
   ]
  },
  {
   "cell_type": "code",
   "execution_count": 102,
   "metadata": {},
   "outputs": [],
   "source": [
    "reviews_user_recom = reviews[['rev_item_id', 'user_id',  'rev_recommend', 'año', 'sentiment_analysis']]\n",
    "games_user_recom =  games[['id', 'app_name']]\n",
    "\n",
    "# Se cambia el nombre de la fila id por rev_item_id para realizar la union de una forma mas clara\n",
    "games_user_recom = games_user_recom.rename(columns={'id':'rev_item_id'})"
   ]
  },
  {
   "cell_type": "markdown",
   "metadata": {},
   "source": [
    "Se hace la union entre reviews_user_recom y games_user_recom"
   ]
  },
  {
   "cell_type": "code",
   "execution_count": 103,
   "metadata": {},
   "outputs": [],
   "source": [
    "user_recom = reviews_user_recom.merge(games_user_recom, on='rev_item_id')\n",
    "user_recom = user_recom.drop_duplicates()\n",
    "# Se elimina el valor invalido en la columna año\n",
    "user_recom['año'] = user_recom['año'].replace('invalido', pd.NA)\n",
    "user_recom = user_recom.dropna(subset=['año'])\n",
    "\n",
    "# Se vuelve una columna integer ya que estaba object\n",
    "user_recom['año'] = user_recom['año'].astype('Int64')"
   ]
  },
  {
   "cell_type": "markdown",
   "metadata": {},
   "source": [
    "Se filtran y ase agrupan los datos para obtener un dataset mas sencillo y se pueda usar en render"
   ]
  },
  {
   "cell_type": "code",
   "execution_count": 104,
   "metadata": {},
   "outputs": [],
   "source": [
    "# Se crea una copia y se filtran los datos para que solo queden los juegos recomendados y con un sentiment_analysis de 2\n",
    "filtro = user_recom[(user_recom['rev_recommend'] == True) & (user_recom['sentiment_analysis'] == 2)].copy()\n",
    "\n",
    "# Se crea una columna de votos para poder encontrar los mas recomendados\n",
    "filtro['total_votes'] = filtro['rev_recommend'].astype(int) + filtro['sentiment_analysis']\n",
    "\n",
    "# Se agrupan por año y juego, se todos los votos por juego y año\n",
    "filtro_group = filtro.groupby(['año', 'rev_item_id', 'app_name'])['total_votes'].sum().reset_index()\n",
    "\n",
    "# Se encuentran los tres juegos con más votos para cada año\n",
    "top_3_year = filtro_group.groupby('año', as_index=False).apply(lambda x: x.nlargest(3, 'total_votes'))\n",
    "\n",
    "# Seleccionamos las columnas utiles para la funcion de la api\n",
    "result = top_3_year[['año', 'app_name']]\n",
    "\n",
    "# Se convierte en un  DataFrame final\n",
    "result = pd.concat([group.reset_index(drop=True) for _, group in result.groupby('año')])"
   ]
  },
  {
   "cell_type": "code",
   "execution_count": 105,
   "metadata": {},
   "outputs": [
    {
     "name": "stdout",
     "output_type": "stream",
     "text": [
      "Se guardó el archivo\n"
     ]
    }
   ],
   "source": [
    "result.to_csv('user_recom.csv', index=False)\n",
    "print(f'Se guardó el archivo')"
   ]
  },
  {
   "cell_type": "markdown",
   "metadata": {},
   "source": [
    "### Dataset para la Funcion UsersWorstDeveloper "
   ]
  },
  {
   "cell_type": "markdown",
   "metadata": {},
   "source": [
    "Para devolver el top 3 de las desarrolladoras con juegos menos recomendados por usuarios para el año dado <br>\n",
    "Se usa el dataset reviews y games. Se dejan solo las columnas necesarias"
   ]
  },
  {
   "cell_type": "code",
   "execution_count": 106,
   "metadata": {},
   "outputs": [],
   "source": [
    "reviews_worst = reviews[['rev_item_id', 'user_id',  'rev_recommend', 'año', 'sentiment_analysis']]\n",
    "games_worst =  games[['id', 'developer']]\n",
    "\n",
    "# Se cambia el nombre de la fila id por rev_item_id para realizar la union de una forma mas clara\n",
    "games_worst = games_worst.rename(columns={'id':'rev_item_id'})"
   ]
  },
  {
   "cell_type": "markdown",
   "metadata": {},
   "source": [
    "Se hace la union entre reviews_worst y games_worst"
   ]
  },
  {
   "cell_type": "code",
   "execution_count": 107,
   "metadata": {},
   "outputs": [],
   "source": [
    "user_worst = reviews_worst.merge(games_worst, on='rev_item_id')\n",
    "user_worst = user_worst.drop_duplicates()\n",
    "# Se elimina el valor invalido en la columna año\n",
    "user_worst['año'] = user_worst['año'].replace('invalido', pd.NA)\n",
    "user_worst = user_worst.dropna(subset=['año'])\n",
    "\n",
    "# Se vuelve una columna integer ya que estaba object\n",
    "user_worst['año'] = user_worst['año'].astype('Int64')"
   ]
  },
  {
   "cell_type": "markdown",
   "metadata": {},
   "source": [
    "Se ajusta el dataset para que su tamaño sea el ideal para trabajar en render"
   ]
  },
  {
   "cell_type": "code",
   "execution_count": 108,
   "metadata": {},
   "outputs": [],
   "source": [
    "# Se crea una copia y se filtran los datos para que solo queden los juegos NO recomendados y con un sentiment_analysis de 0\n",
    "filtro_no_recomendados = user_worst[(user_worst['rev_recommend'] == False) & (user_worst['sentiment_analysis'] == 0)].copy()\n",
    "\n",
    "# Se agrupan por año y desarrollador, y se cuentan los juegos no recomendados \n",
    "develop_no_recomendados = filtro_no_recomendados.groupby(['año', 'developer'])['rev_item_id'].count().reset_index()\n",
    "\n",
    "# Se cambia el nombre de la columna para hacerlo mas claro\n",
    "develop_no_recomendados.rename(columns={'rev_item_id': 'cantidad_no_recomend'}, inplace=True)\n",
    "\n",
    "# Se encuentran los tres desarrolladores con más juegos no recomendados para cada año\n",
    "top_3_peores_developers = develop_no_recomendados.groupby('año', as_index=False).apply(lambda x: x.nlargest(3, 'cantidad_no_recomend'))\n",
    "\n",
    "# Seleccionamos las columnas relevantes\n",
    "peores_developers = top_3_peores_developers[['año', 'developer']]\n",
    "# Convertimos en un DataFrame final\n",
    "user_worst = pd.concat([group.reset_index(drop=True) for _, group in peores_developers.groupby('año')])"
   ]
  },
  {
   "cell_type": "code",
   "execution_count": 109,
   "metadata": {},
   "outputs": [
    {
     "name": "stdout",
     "output_type": "stream",
     "text": [
      "Se guardó el archivo\n"
     ]
    }
   ],
   "source": [
    "user_worst.to_csv('user_worst.csv', index=False)\n",
    "print(f'Se guardó el archivo')"
   ]
  },
  {
   "cell_type": "markdown",
   "metadata": {},
   "source": [
    "### Dataset para la Funcion sentiment_analysis"
   ]
  },
  {
   "cell_type": "markdown",
   "metadata": {},
   "source": [
    "Segun la empresa desarrolladora se devuelve un diccionario donde la clave es la desarrolladora y una lista con la cantidad total de registros<br>\n",
    "positivos, negativos y neutrales. <br>\n",
    "Se usa el dataset reviews y games. Se dejan solo las columnas necesarias"
   ]
  },
  {
   "cell_type": "code",
   "execution_count": 110,
   "metadata": {},
   "outputs": [],
   "source": [
    "reviews_sa = reviews[['rev_item_id', 'user_id',  'sentiment_analysis']]\n",
    "games_sa =  games[['id', 'developer']]\n",
    "\n",
    "# Se cambia el nombre de la fila id por rev_item_id para realizar la union de una forma mas clara\n",
    "games_sa = games_sa.rename(columns={'id':'rev_item_id'})"
   ]
  },
  {
   "cell_type": "code",
   "execution_count": 111,
   "metadata": {},
   "outputs": [],
   "source": [
    "sa = reviews_sa.merge(games_sa, on='rev_item_id')\n",
    "sa = sa.drop_duplicates()"
   ]
  },
  {
   "cell_type": "markdown",
   "metadata": {},
   "source": [
    "Se ajusta el dataset para que su tamaño sea el ideal para trabajar en render"
   ]
  },
  {
   "cell_type": "code",
   "execution_count": 112,
   "metadata": {},
   "outputs": [],
   "source": [
    "# Agrupar por 'developer' y 'sentiment_analysis', contar los valores\n",
    "agrupar = sa.groupby(['developer', 'sentiment_analysis']).size().reset_index(name='count')\n",
    "\n",
    "# Crear una tabla pivote con 'developer' como índice, 'sentiment_analysis' como columnas y 'count' como valores\n",
    "pivot_table = agrupar.pivot_table(index='developer', columns='sentiment_analysis', values='count', fill_value=0)"
   ]
  },
  {
   "cell_type": "markdown",
   "metadata": {},
   "source": [
    "Se ajusta el dataset para que su tamaño sea el ideal para trabajar en render"
   ]
  },
  {
   "cell_type": "code",
   "execution_count": 113,
   "metadata": {},
   "outputs": [],
   "source": [
    "# Agrupar por 'developer' y 'sentiment_analysis', contar los valores\n",
    "grouped = sa.groupby(['developer', 'sentiment_analysis']).size().reset_index(name='count')\n",
    "\n",
    "# Crear una tabla pivote con 'developer' como índice, 'sentiment_analysis' como columnas y 'count' como valores\n",
    "pivot_table = grouped.pivot_table(index='developer', columns='sentiment_analysis', values='count', fill_value=0).rename_axis(None, axis=1)\n",
    "\n",
    "# Se le cambia el tipo a las columnas 0 1 2\n",
    "columnas_para_cambiar = [0, 1, 2]\n",
    "pivot_table[columnas_para_cambiar] = pivot_table[columnas_para_cambiar].astype(int)\n",
    "\n",
    "# Se renombran las columnas del DataFrame pivot_table\n",
    "pivot_table.rename(columns={0: 'Negative', 1: 'Neutral', 2: 'Positive'}, inplace=True)"
   ]
  },
  {
   "cell_type": "code",
   "execution_count": 114,
   "metadata": {},
   "outputs": [
    {
     "name": "stdout",
     "output_type": "stream",
     "text": [
      "Se guardó el archivo\n"
     ]
    }
   ],
   "source": [
    "pivot_table.to_csv('sa.csv', index=True)\n",
    "print(f'Se guardó el archivo')"
   ]
  }
 ],
 "metadata": {
  "kernelspec": {
   "display_name": "Python 3",
   "language": "python",
   "name": "python3"
  },
  "language_info": {
   "codemirror_mode": {
    "name": "ipython",
    "version": 3
   },
   "file_extension": ".py",
   "mimetype": "text/x-python",
   "name": "python",
   "nbconvert_exporter": "python",
   "pygments_lexer": "ipython3",
   "version": "3.12.0"
  }
 },
 "nbformat": 4,
 "nbformat_minor": 2
}
