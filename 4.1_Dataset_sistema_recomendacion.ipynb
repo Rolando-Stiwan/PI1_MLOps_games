{
 "cells": [
  {
   "cell_type": "markdown",
   "metadata": {},
   "source": [
    "### Dataset para el sistema de Recomendacion"
   ]
  },
  {
   "cell_type": "code",
   "execution_count": 10,
   "metadata": {},
   "outputs": [],
   "source": [
    "# Se cargan las librerias necesarias\n",
    "import pandas as pd \n",
    "import numpy as np "
   ]
  },
  {
   "cell_type": "code",
   "execution_count": 11,
   "metadata": {},
   "outputs": [],
   "source": [
    "# Se cargan los datos\n",
    "reviews = pd.read_csv('reviews_sa.csv', encoding='utf-8')\n",
    "items = pd.read_parquet('item_clean.parquet', engine='auto')\n",
    "items['item_id'] = items['item_id'].astype(int)\n",
    "games = pd.read_csv('games_clean.csv', encoding='utf-8')"
   ]
  },
  {
   "cell_type": "markdown",
   "metadata": {},
   "source": [
    "Para este dataset se necesita un Rating o valoracion de cada item, para nuestro caso en el dataframe reviews se tienen 2, el sentiment_analysis y rev_recommend. <br>\n",
    "Se diseña un sistema de valoracion teniendo en cuenta lo anterior de la siguiente manera: <br> \n",
    "Cuando: <br>\n",
    "sentiment_analysis = 0  y rev_recommend = 0  entonces Rating = 1  <br>\n",
    "sentiment_analysis = 0  y rev_recommend = 1  entonces Rating = 1  <br>\n",
    "sentiment_analysis = 1  y rev_recommend = 0  entonces Rating = 2  <br>\n",
    "sentiment_analysis = 1  y rev_recommend = 1  entonces Rating = 3  <br>\n",
    "sentiment_analysis = 2  y rev_recommend = 0  entonces Rating = 4  <br>\n",
    "sentiment_analysis = 2  y rev_recommend = 1  entonces Rating = 5  <br>\n"
   ]
  },
  {
   "cell_type": "markdown",
   "metadata": {},
   "source": [
    "Volviendo lo anterior codigo y aplicandolo a games tenemos:"
   ]
  },
  {
   "cell_type": "code",
   "execution_count": 12,
   "metadata": {},
   "outputs": [
    {
     "data": {
      "text/html": [
       "<div>\n",
       "<style scoped>\n",
       "    .dataframe tbody tr th:only-of-type {\n",
       "        vertical-align: middle;\n",
       "    }\n",
       "\n",
       "    .dataframe tbody tr th {\n",
       "        vertical-align: top;\n",
       "    }\n",
       "\n",
       "    .dataframe thead th {\n",
       "        text-align: right;\n",
       "    }\n",
       "</style>\n",
       "<table border=\"1\" class=\"dataframe\">\n",
       "  <thead>\n",
       "    <tr style=\"text-align: right;\">\n",
       "      <th></th>\n",
       "      <th>user_id</th>\n",
       "      <th>user_url</th>\n",
       "      <th>variable</th>\n",
       "      <th>rev_item_id</th>\n",
       "      <th>rev_helpful</th>\n",
       "      <th>rev_recommend</th>\n",
       "      <th>año</th>\n",
       "      <th>sentiment_analysis</th>\n",
       "      <th>Rating</th>\n",
       "    </tr>\n",
       "  </thead>\n",
       "  <tbody>\n",
       "    <tr>\n",
       "      <th>0</th>\n",
       "      <td>76561197970982479</td>\n",
       "      <td>http://steamcommunity.com/profiles/76561197970...</td>\n",
       "      <td>0</td>\n",
       "      <td>1250</td>\n",
       "      <td>No ratings yet</td>\n",
       "      <td>True</td>\n",
       "      <td>2011</td>\n",
       "      <td>2</td>\n",
       "      <td>5</td>\n",
       "    </tr>\n",
       "    <tr>\n",
       "      <th>1</th>\n",
       "      <td>js41637</td>\n",
       "      <td>http://steamcommunity.com/id/js41637</td>\n",
       "      <td>0</td>\n",
       "      <td>251610</td>\n",
       "      <td>15 of 20 people (75%) found this review helpful</td>\n",
       "      <td>True</td>\n",
       "      <td>2014</td>\n",
       "      <td>2</td>\n",
       "      <td>5</td>\n",
       "    </tr>\n",
       "    <tr>\n",
       "      <th>2</th>\n",
       "      <td>evcentric</td>\n",
       "      <td>http://steamcommunity.com/id/evcentric</td>\n",
       "      <td>0</td>\n",
       "      <td>248820</td>\n",
       "      <td>No ratings yet</td>\n",
       "      <td>True</td>\n",
       "      <td>invalido</td>\n",
       "      <td>2</td>\n",
       "      <td>5</td>\n",
       "    </tr>\n",
       "    <tr>\n",
       "      <th>3</th>\n",
       "      <td>doctr</td>\n",
       "      <td>http://steamcommunity.com/id/doctr</td>\n",
       "      <td>0</td>\n",
       "      <td>250320</td>\n",
       "      <td>2 of 2 people (100%) found this review helpful</td>\n",
       "      <td>True</td>\n",
       "      <td>2013</td>\n",
       "      <td>2</td>\n",
       "      <td>5</td>\n",
       "    </tr>\n",
       "    <tr>\n",
       "      <th>4</th>\n",
       "      <td>maplemage</td>\n",
       "      <td>http://steamcommunity.com/id/maplemage</td>\n",
       "      <td>0</td>\n",
       "      <td>211420</td>\n",
       "      <td>35 of 43 people (81%) found this review helpful</td>\n",
       "      <td>True</td>\n",
       "      <td>2014</td>\n",
       "      <td>1</td>\n",
       "      <td>3</td>\n",
       "    </tr>\n",
       "  </tbody>\n",
       "</table>\n",
       "</div>"
      ],
      "text/plain": [
       "             user_id                                           user_url  \\\n",
       "0  76561197970982479  http://steamcommunity.com/profiles/76561197970...   \n",
       "1            js41637               http://steamcommunity.com/id/js41637   \n",
       "2          evcentric             http://steamcommunity.com/id/evcentric   \n",
       "3              doctr                 http://steamcommunity.com/id/doctr   \n",
       "4          maplemage             http://steamcommunity.com/id/maplemage   \n",
       "\n",
       "   variable  rev_item_id                                      rev_helpful  \\\n",
       "0         0         1250                                   No ratings yet   \n",
       "1         0       251610  15 of 20 people (75%) found this review helpful   \n",
       "2         0       248820                                   No ratings yet   \n",
       "3         0       250320   2 of 2 people (100%) found this review helpful   \n",
       "4         0       211420  35 of 43 people (81%) found this review helpful   \n",
       "\n",
       "   rev_recommend       año  sentiment_analysis Rating  \n",
       "0           True      2011                   2      5  \n",
       "1           True      2014                   2      5  \n",
       "2           True  invalido                   2      5  \n",
       "3           True      2013                   2      5  \n",
       "4           True      2014                   1      3  "
      ]
     },
     "execution_count": 12,
     "metadata": {},
     "output_type": "execute_result"
    }
   ],
   "source": [
    "# Se definen las condiciones y los valores a asignar\n",
    "conditions = [\n",
    "    (reviews['sentiment_analysis'] == 0) & (reviews['rev_recommend'] == 0),\n",
    "    (reviews['sentiment_analysis'] == 0) & (reviews['rev_recommend'] == 1),\n",
    "    (reviews['sentiment_analysis'] == 1) & (reviews['rev_recommend'] == 0),\n",
    "    (reviews['sentiment_analysis'] == 1) & (reviews['rev_recommend'] == 1),\n",
    "    (reviews['sentiment_analysis'] == 2) & (reviews['rev_recommend'] == 0),\n",
    "    (reviews['sentiment_analysis'] == 2) & (reviews['rev_recommend'] == 1)\n",
    "]\n",
    "\n",
    "# Valores para cada condición\n",
    "values = [1, 1, 2, 3, 4, 5]  \n",
    "\n",
    "# Se aplican las condiciones y se asignan los valores usando np.select()\n",
    "reviews['Rating'] = np.select(conditions, values, default=None)\n",
    "reviews.head()"
   ]
  },
  {
   "cell_type": "markdown",
   "metadata": {},
   "source": [
    "Se hacen  tablas auxiliares  para tomar los datos necesarios para el sistema de recomendacion"
   ]
  },
  {
   "cell_type": "code",
   "execution_count": 13,
   "metadata": {},
   "outputs": [],
   "source": [
    "reviews_aux =  reviews[['rev_item_id', 'user_id', 'Rating']]\n",
    "reviews_aux = reviews_aux.rename(columns={'rev_item_id':'item_id'})"
   ]
  },
  {
   "cell_type": "code",
   "execution_count": 14,
   "metadata": {},
   "outputs": [],
   "source": [
    "# Se usa la items para traer los nombres de los juegos, se usa esta tabla porque tiene mayor numero de juegos \n",
    "items_aux = items[['item_id', 'item_name']]\n",
    "items_aux = items_aux.drop_duplicates(subset=['item_id'])"
   ]
  },
  {
   "cell_type": "markdown",
   "metadata": {},
   "source": [
    "Se hace la union de las tablas"
   ]
  },
  {
   "cell_type": "code",
   "execution_count": 15,
   "metadata": {},
   "outputs": [
    {
     "data": {
      "text/html": [
       "<div>\n",
       "<style scoped>\n",
       "    .dataframe tbody tr th:only-of-type {\n",
       "        vertical-align: middle;\n",
       "    }\n",
       "\n",
       "    .dataframe tbody tr th {\n",
       "        vertical-align: top;\n",
       "    }\n",
       "\n",
       "    .dataframe thead th {\n",
       "        text-align: right;\n",
       "    }\n",
       "</style>\n",
       "<table border=\"1\" class=\"dataframe\">\n",
       "  <thead>\n",
       "    <tr style=\"text-align: right;\">\n",
       "      <th></th>\n",
       "      <th>item_id</th>\n",
       "      <th>user_id</th>\n",
       "      <th>Rating</th>\n",
       "      <th>item_name</th>\n",
       "    </tr>\n",
       "  </thead>\n",
       "  <tbody>\n",
       "    <tr>\n",
       "      <th>0</th>\n",
       "      <td>1250</td>\n",
       "      <td>76561197970982479</td>\n",
       "      <td>5</td>\n",
       "      <td>Killing Floor</td>\n",
       "    </tr>\n",
       "    <tr>\n",
       "      <th>1</th>\n",
       "      <td>1250</td>\n",
       "      <td>EndAtHallow</td>\n",
       "      <td>1</td>\n",
       "      <td>Killing Floor</td>\n",
       "    </tr>\n",
       "    <tr>\n",
       "      <th>2</th>\n",
       "      <td>1250</td>\n",
       "      <td>76561198077432581</td>\n",
       "      <td>5</td>\n",
       "      <td>Killing Floor</td>\n",
       "    </tr>\n",
       "    <tr>\n",
       "      <th>3</th>\n",
       "      <td>1250</td>\n",
       "      <td>76561198057958244</td>\n",
       "      <td>5</td>\n",
       "      <td>Killing Floor</td>\n",
       "    </tr>\n",
       "    <tr>\n",
       "      <th>4</th>\n",
       "      <td>1250</td>\n",
       "      <td>46366536564574576346346546</td>\n",
       "      <td>5</td>\n",
       "      <td>Killing Floor</td>\n",
       "    </tr>\n",
       "  </tbody>\n",
       "</table>\n",
       "</div>"
      ],
      "text/plain": [
       "   item_id                     user_id Rating      item_name\n",
       "0     1250           76561197970982479      5  Killing Floor\n",
       "1     1250                 EndAtHallow      1  Killing Floor\n",
       "2     1250           76561198077432581      5  Killing Floor\n",
       "3     1250           76561198057958244      5  Killing Floor\n",
       "4     1250  46366536564574576346346546      5  Killing Floor"
      ]
     },
     "execution_count": 15,
     "metadata": {},
     "output_type": "execute_result"
    }
   ],
   "source": [
    "training = reviews_aux.merge(items_aux, on='item_id')\n",
    "training = training.drop_duplicates()\n",
    "training.head()"
   ]
  },
  {
   "cell_type": "code",
   "execution_count": 16,
   "metadata": {},
   "outputs": [
    {
     "data": {
      "text/plain": [
       "3296"
      ]
     },
     "execution_count": 16,
     "metadata": {},
     "output_type": "execute_result"
    }
   ],
   "source": [
    "training.item_id.nunique()"
   ]
  },
  {
   "cell_type": "code",
   "execution_count": 17,
   "metadata": {},
   "outputs": [
    {
     "name": "stdout",
     "output_type": "stream",
     "text": [
      "Se guardó el archivo\n"
     ]
    }
   ],
   "source": [
    "training.to_parquet('training.parquet')\n",
    "print(f'Se guardó el archivo')"
   ]
  }
 ],
 "metadata": {
  "kernelspec": {
   "display_name": "Python 3",
   "language": "python",
   "name": "python3"
  },
  "language_info": {
   "codemirror_mode": {
    "name": "ipython",
    "version": 3
   },
   "file_extension": ".py",
   "mimetype": "text/x-python",
   "name": "python",
   "nbconvert_exporter": "python",
   "pygments_lexer": "ipython3",
   "version": "3.12.0"
  }
 },
 "nbformat": 4,
 "nbformat_minor": 2
}
